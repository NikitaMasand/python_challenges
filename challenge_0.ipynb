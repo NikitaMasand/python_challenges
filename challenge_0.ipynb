{
 "cells": [
  {
   "cell_type": "code",
   "execution_count": 1,
   "metadata": {},
   "outputs": [
    {
     "name": "stdout",
     "output_type": "stream",
     "text": [
      "274877906944\n"
     ]
    }
   ],
   "source": [
    "#link : http://www.pythonchallenge.com/pc/def/0.html\n",
    "#Here we simply have to find 2 raised to 38 and replace 0 with that in the url\n",
    "print(2**38)"
   ]
  },
  {
   "cell_type": "raw",
   "metadata": {},
   "source": [
    " http://www.pythonchallenge.com/pc/def/274877906944.html"
   ]
  }
 ],
 "metadata": {
  "kernelspec": {
   "display_name": "Python 3",
   "language": "python",
   "name": "python3"
  },
  "language_info": {
   "codemirror_mode": {
    "name": "ipython",
    "version": 3
   },
   "file_extension": ".py",
   "mimetype": "text/x-python",
   "name": "python",
   "nbconvert_exporter": "python",
   "pygments_lexer": "ipython3",
   "version": "3.6.7"
  }
 },
 "nbformat": 4,
 "nbformat_minor": 2
}
