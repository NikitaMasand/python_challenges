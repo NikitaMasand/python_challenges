{
 "cells": [
  {
   "cell_type": "code",
   "execution_count": null,
   "metadata": {},
   "outputs": [],
   "source": [
    "#Challenge_1\n",
    "#link: http://www.pythonchallenge.com/pc/def/map.html"
   ]
  },
  {
   "cell_type": "code",
   "execution_count": 54,
   "metadata": {},
   "outputs": [
    {
     "name": "stdout",
     "output_type": "stream",
     "text": [
      "i\n"
     ]
    }
   ],
   "source": [
    "# this will return the integer that represents the character which is passed \n",
    "x = ord('g')\n",
    "x = x+2\n",
    "# this will return the character that is represented by the integer passed\n",
    "print(chr(x))"
   ]
  },
  {
   "cell_type": "code",
   "execution_count": 58,
   "metadata": {},
   "outputs": [
    {
     "data": {
      "text/plain": [
       "['i',\n",
       " 'hope',\n",
       " 'you',\n",
       " 'didnt',\n",
       " 'translate',\n",
       " 'it',\n",
       " 'by',\n",
       " 'hand0',\n",
       " 'thats',\n",
       " 'what',\n",
       " 'computers',\n",
       " 'are',\n",
       " 'for0',\n",
       " 'doing',\n",
       " 'it',\n",
       " 'in',\n",
       " 'by\\x0chand',\n",
       " 'is',\n",
       " 'inefficient',\n",
       " 'and',\n",
       " 'that)s',\n",
       " 'why',\n",
       " 'this',\n",
       " 'text',\n",
       " 'is',\n",
       " 'so',\n",
       " 'long0',\n",
       " 'using',\n",
       " 'string0maketrans*+',\n",
       " 'is\\x0crecommended0',\n",
       " 'now',\n",
       " 'apply',\n",
       " 'on',\n",
       " 'the',\n",
       " 'url0']"
      ]
     },
     "execution_count": 58,
     "metadata": {},
     "output_type": "execute_result"
    }
   ],
   "source": [
    "strr = \"\"\"g fmnc wms bgblr rpylqjyrc gr zw fylb. rfyrq ufyr amknsrcpq ypc dmp. bmgle gr gl zw\n",
    "fylb gq glcddgagclr ylb rfyr'q ufw rfgq rcvr gq qm jmle. sqgle qrpgle.kyicrpylq() gq\n",
    "pcamkkclbcb. lmu ynnjw ml rfc spj.\"\"\"\n",
    "listt = strr.split(' ')\n",
    "for n,word in enumerate(listt):\n",
    "    word1=''\n",
    "    for char in word:\n",
    "        if(char!='y' and char!='z'):\n",
    "            x = ord(char)\n",
    "            x = x + 2\n",
    "            word1 = word1 + chr(x)\n",
    "        elif(char == 'y'):\n",
    "            word1 = word1 + 'a'\n",
    "        elif(char == 'z'):\n",
    "            word1 = word1 + 'b'\n",
    "        \n",
    "    listt[n]=word1\n",
    "    \n",
    "listt"
   ]
  },
  {
   "cell_type": "code",
   "execution_count": 59,
   "metadata": {},
   "outputs": [
    {
     "data": {
      "text/plain": [
       "\"i hope you didnt translate it by hand. thats what computers are for. doing it in by\\nhand is inefficient and that's why this text is so long. using string.maketrans() is\\nrecommended. now apply on the url.\""
      ]
     },
     "execution_count": 59,
     "metadata": {},
     "output_type": "execute_result"
    }
   ],
   "source": [
    "#using maketrans\n",
    "string =  \"\"\"g fmnc wms bgblr rpylqjyrc gr zw fylb. rfyrq ufyr amknsrcpq ypc dmp. bmgle gr gl zw\n",
    "fylb gq glcddgagclr ylb rfyr'q ufw rfgq rcvr gq qm jmle. sqgle qrpgle.kyicrpylq() gq\n",
    "pcamkkclbcb. lmu ynnjw ml rfc spj.\"\"\"\n",
    "intab = 'abcdefghijklmnopqrstuvwxyz'\n",
    "outtab = 'cdefghijklmnopqrstuvwxyzab'\n",
    "trantab = str.maketrans(intab,outtab)\n",
    "string.translate(trantab)"
   ]
  },
  {
   "cell_type": "code",
   "execution_count": 60,
   "metadata": {},
   "outputs": [
    {
     "data": {
      "text/plain": [
       "'ocr'"
      ]
     },
     "execution_count": 60,
     "metadata": {},
     "output_type": "execute_result"
    }
   ],
   "source": [
    "#applying this on the url i.e map gives..\n",
    "intab = 'abcdefghijklmnopqrstuvwxyz'\n",
    "outtab = 'cdefghijklmnopqrstuvwxyzab'\n",
    "trantab = str.maketrans(intab,outtab)\n",
    "\"map\".translate(trantab)"
   ]
  },
  {
   "cell_type": "code",
   "execution_count": 61,
   "metadata": {},
   "outputs": [],
   "source": [
    "#yayaya we found the key to next level\n",
    "# http://www.pythonchallenge.com/pc/def/ocr.html"
   ]
  }
 ],
 "metadata": {
  "kernelspec": {
   "display_name": "Python 3",
   "language": "python",
   "name": "python3"
  },
  "language_info": {
   "codemirror_mode": {
    "name": "ipython",
    "version": 3
   },
   "file_extension": ".py",
   "mimetype": "text/x-python",
   "name": "python",
   "nbconvert_exporter": "python",
   "pygments_lexer": "ipython3",
   "version": "3.6.7"
  }
 },
 "nbformat": 4,
 "nbformat_minor": 2
}
